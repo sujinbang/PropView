{
 "cells": [
  {
   "cell_type": "markdown",
   "id": "88b205d9",
   "metadata": {},
   "source": [
    "### 2015-2025 (10년 실거래가)"
   ]
  },
  {
   "cell_type": "code",
   "execution_count": 1,
   "id": "1a43b195",
   "metadata": {},
   "outputs": [],
   "source": [
    "import sqlite3\n",
    "import pandas as pd\n",
    "import matplotlib.pyplot as plt\n",
    "\n",
    "db_path = 'database.db'\n",
    "conn = sqlite3.connect(db_path)\n",
    "\n",
    "# 데이터 조회 예시\n",
    "query = \"SELECT * FROM REAL_ESTATE_TRANSACTION;\"\n",
    "df = pd.read_sql(query, conn)"
   ]
  },
  {
   "cell_type": "code",
   "execution_count": 2,
   "id": "369cf9ba",
   "metadata": {},
   "outputs": [],
   "source": [
    "# 계약년,월,일 구분\n",
    "df['계약일'] = pd.to_datetime(df['계약일'], format='%Y%m%d', errors='coerce')\n",
    "df['계약년도'] = df['계약일'].dt.year\n",
    "df['계약월'] = df['계약일'].dt.month\n",
    "df['계약일'] = df['계약일'].dt.day"
   ]
  },
  {
   "cell_type": "code",
   "execution_count": 3,
   "id": "ac4ffe4d",
   "metadata": {},
   "outputs": [
    {
     "data": {
      "text/plain": [
       "Index(['접수연도', '자치구코드', '자치구명', '법정동코드', '법정동명', '지번구분', '지번구분명', '본번', '부번',\n",
       "       '건물명', '계약일', '물건금액(만원)', '건물면적(㎡)', '토지면적(㎡)', '층', '권리구분', '취소일',\n",
       "       '건축년도', '건물용도', '신고구분', '신고한 개업공인중개사 시군구명', '계약년도', '계약월'],\n",
       "      dtype='object')"
      ]
     },
     "execution_count": 3,
     "metadata": {},
     "output_type": "execute_result"
    }
   ],
   "source": [
    "df.columns"
   ]
  },
  {
   "cell_type": "code",
   "execution_count": 4,
   "id": "d54e499a",
   "metadata": {},
   "outputs": [
    {
     "data": {
      "text/html": [
       "<div>\n",
       "<style scoped>\n",
       "    .dataframe tbody tr th:only-of-type {\n",
       "        vertical-align: middle;\n",
       "    }\n",
       "\n",
       "    .dataframe tbody tr th {\n",
       "        vertical-align: top;\n",
       "    }\n",
       "\n",
       "    .dataframe thead th {\n",
       "        text-align: right;\n",
       "    }\n",
       "</style>\n",
       "<table border=\"1\" class=\"dataframe\">\n",
       "  <thead>\n",
       "    <tr style=\"text-align: right;\">\n",
       "      <th></th>\n",
       "      <th>접수연도</th>\n",
       "      <th>계약년도</th>\n",
       "    </tr>\n",
       "  </thead>\n",
       "  <tbody>\n",
       "    <tr>\n",
       "      <th>0</th>\n",
       "      <td>2025</td>\n",
       "      <td>2025</td>\n",
       "    </tr>\n",
       "    <tr>\n",
       "      <th>1</th>\n",
       "      <td>2025</td>\n",
       "      <td>2025</td>\n",
       "    </tr>\n",
       "    <tr>\n",
       "      <th>2</th>\n",
       "      <td>2025</td>\n",
       "      <td>2025</td>\n",
       "    </tr>\n",
       "    <tr>\n",
       "      <th>3</th>\n",
       "      <td>2025</td>\n",
       "      <td>2025</td>\n",
       "    </tr>\n",
       "    <tr>\n",
       "      <th>4</th>\n",
       "      <td>2025</td>\n",
       "      <td>2025</td>\n",
       "    </tr>\n",
       "    <tr>\n",
       "      <th>...</th>\n",
       "      <td>...</td>\n",
       "      <td>...</td>\n",
       "    </tr>\n",
       "    <tr>\n",
       "      <th>1371154</th>\n",
       "      <td>2015</td>\n",
       "      <td>2012</td>\n",
       "    </tr>\n",
       "    <tr>\n",
       "      <th>1371155</th>\n",
       "      <td>2015</td>\n",
       "      <td>2012</td>\n",
       "    </tr>\n",
       "    <tr>\n",
       "      <th>1371156</th>\n",
       "      <td>2015</td>\n",
       "      <td>2012</td>\n",
       "    </tr>\n",
       "    <tr>\n",
       "      <th>1371157</th>\n",
       "      <td>2015</td>\n",
       "      <td>2012</td>\n",
       "    </tr>\n",
       "    <tr>\n",
       "      <th>1371158</th>\n",
       "      <td>2015</td>\n",
       "      <td>2011</td>\n",
       "    </tr>\n",
       "  </tbody>\n",
       "</table>\n",
       "<p>1371159 rows × 2 columns</p>\n",
       "</div>"
      ],
      "text/plain": [
       "         접수연도  계약년도\n",
       "0        2025  2025\n",
       "1        2025  2025\n",
       "2        2025  2025\n",
       "3        2025  2025\n",
       "4        2025  2025\n",
       "...       ...   ...\n",
       "1371154  2015  2012\n",
       "1371155  2015  2012\n",
       "1371156  2015  2012\n",
       "1371157  2015  2012\n",
       "1371158  2015  2011\n",
       "\n",
       "[1371159 rows x 2 columns]"
      ]
     },
     "execution_count": 4,
     "metadata": {},
     "output_type": "execute_result"
    }
   ],
   "source": [
    "df[['접수연도', '계약년도']]"
   ]
  },
  {
   "cell_type": "code",
   "execution_count": 5,
   "id": "b4d59ef0",
   "metadata": {},
   "outputs": [],
   "source": [
    "cond1 = df['자치구명'] == '광진구'\n",
    "# cond2 = df['건물용도'] == '아파트'\n",
    "df_gangnam = df[cond1]\n",
    "temp = df_gangnam.groupby(['계약년도','건물용도', '자치구명'])['물건금액(만원)'].mean().to_frame()"
   ]
  },
  {
   "cell_type": "code",
   "execution_count": 11,
   "id": "05c0e769",
   "metadata": {},
   "outputs": [],
   "source": [
    "temp = temp.reset_index()"
   ]
  },
  {
   "cell_type": "code",
   "execution_count": 12,
   "id": "1aa94bba",
   "metadata": {},
   "outputs": [
    {
     "data": {
      "text/html": [
       "<div>\n",
       "<style scoped>\n",
       "    .dataframe tbody tr th:only-of-type {\n",
       "        vertical-align: middle;\n",
       "    }\n",
       "\n",
       "    .dataframe tbody tr th {\n",
       "        vertical-align: top;\n",
       "    }\n",
       "\n",
       "    .dataframe thead th {\n",
       "        text-align: right;\n",
       "    }\n",
       "</style>\n",
       "<table border=\"1\" class=\"dataframe\">\n",
       "  <thead>\n",
       "    <tr style=\"text-align: right;\">\n",
       "      <th></th>\n",
       "      <th>계약년도</th>\n",
       "      <th>건물용도</th>\n",
       "      <th>자치구명</th>\n",
       "      <th>물건금액(만원)</th>\n",
       "    </tr>\n",
       "  </thead>\n",
       "  <tbody>\n",
       "    <tr>\n",
       "      <th>0</th>\n",
       "      <td>2013</td>\n",
       "      <td>아파트</td>\n",
       "      <td>광진구</td>\n",
       "      <td>39400.000000</td>\n",
       "    </tr>\n",
       "    <tr>\n",
       "      <th>1</th>\n",
       "      <td>2014</td>\n",
       "      <td>단독다가구</td>\n",
       "      <td>광진구</td>\n",
       "      <td>89173.782609</td>\n",
       "    </tr>\n",
       "    <tr>\n",
       "      <th>2</th>\n",
       "      <td>2014</td>\n",
       "      <td>아파트</td>\n",
       "      <td>광진구</td>\n",
       "      <td>56139.144928</td>\n",
       "    </tr>\n",
       "    <tr>\n",
       "      <th>3</th>\n",
       "      <td>2014</td>\n",
       "      <td>연립다세대</td>\n",
       "      <td>광진구</td>\n",
       "      <td>25346.666667</td>\n",
       "    </tr>\n",
       "    <tr>\n",
       "      <th>4</th>\n",
       "      <td>2014</td>\n",
       "      <td>오피스텔</td>\n",
       "      <td>광진구</td>\n",
       "      <td>19041.666667</td>\n",
       "    </tr>\n",
       "  </tbody>\n",
       "</table>\n",
       "</div>"
      ],
      "text/plain": [
       "   계약년도   건물용도 자치구명      물건금액(만원)\n",
       "0  2013    아파트  광진구  39400.000000\n",
       "1  2014  단독다가구  광진구  89173.782609\n",
       "2  2014    아파트  광진구  56139.144928\n",
       "3  2014  연립다세대  광진구  25346.666667\n",
       "4  2014   오피스텔  광진구  19041.666667"
      ]
     },
     "execution_count": 12,
     "metadata": {},
     "output_type": "execute_result"
    }
   ],
   "source": [
    "temp.head()"
   ]
  },
  {
   "cell_type": "code",
   "execution_count": 27,
   "id": "8fab83e7",
   "metadata": {},
   "outputs": [],
   "source": [
    "temp_A = temp[temp['건물용도'] == '아파트']\n",
    "temp_B = temp[temp['건물용도'] == '단독다가구']\n",
    "temp_C = temp[temp['건물용도'] == '연립다세대']\n",
    "temp_D = temp[temp['건물용도'] == '오피스텔']"
   ]
  },
  {
   "cell_type": "code",
   "execution_count": 30,
   "id": "71a9460c",
   "metadata": {},
   "outputs": [
    {
     "data": {
      "image/png": "[encoded data removed]",
      "text/plain": [
       "<Figure size 1000x600 with 1 Axes>"
      ]
     },
     "metadata": {},
     "output_type": "display_data"
    }
   ],
   "source": [
    "plt.rc(\"font\", family=\"Malgun Gothic\")\n",
    "\n",
    "plt.figure(figsize=(10, 6))\n",
    "\n",
    "plt.plot(temp_A['계약년도'].to_list(), temp_A['물건금액(만원)'].to_list(), marker='o', color='blue', label='아파트')\n",
    "plt.plot(temp_B['계약년도'].to_list(), temp_B['물건금액(만원)'].to_list(), marker='o', color='red', label='단독다가구')\n",
    "plt.plot(temp_C['계약년도'].to_list(), temp_C['물건금액(만원)'].to_list(), marker='o', color='green', label='연립다세대')\n",
    "plt.plot(temp_D['계약년도'].to_list(), temp_D['물건금액(만원)'].to_list(), marker='o', color='purple', label='오피스텔')\n",
    "\n",
    "plt.title('광진구 연도별 아파트 물건금액(만원) 평균')\n",
    "plt.legend(loc='upper right', fontsize=8)\n",
    "plt.show()"
   ]
  },
  {
   "cell_type": "code",
   "execution_count": 28,
   "id": "993aaff8",
   "metadata": {},
   "outputs": [
    {
     "data": {
      "text/plain": [
       "array(['강서구', '광진구', '금천구', '영등포구', '강남구', '강동구', '은평구', '마포구', '강북구',\n",
       "       '송파구', '중구', '노원구', '관악구', '동작구', '동대문구', '도봉구', '구로구', '중랑구',\n",
       "       '종로구', '성동구', '성북구', '양천구', '서대문구', '서초구', '용산구', None],\n",
       "      dtype=object)"
      ]
     },
     "execution_count": 28,
     "metadata": {},
     "output_type": "execute_result"
    }
   ],
   "source": [
    "df['자치구명'].unique()"
   ]
  },
  {
   "cell_type": "code",
   "execution_count": 3,
   "id": "0d6526c8",
   "metadata": {},
   "outputs": [
    {
     "data": {
      "text/plain": [
       "0         20250922\n",
       "1         20250922\n",
       "2         20250922\n",
       "3         20250922\n",
       "4         20250922\n",
       "            ...   \n",
       "651263    20150303\n",
       "651264    20140419\n",
       "651265    20121220\n",
       "651266    20110715\n",
       "651267    20100204\n",
       "Name: 계약일, Length: 651268, dtype: int64"
      ]
     },
     "execution_count": 3,
     "metadata": {},
     "output_type": "execute_result"
    }
   ],
   "source": [
    "df['계약일']"
   ]
  },
  {
   "cell_type": "code",
   "execution_count": null,
   "id": "12005e13",
   "metadata": {},
   "outputs": [],
   "source": []
  },
  {
   "cell_type": "code",
   "execution_count": null,
   "id": "c32d18fd",
   "metadata": {},
   "outputs": [],
   "source": []
  }
 ],
 "metadata": {
  "kernelspec": {
   "display_name": "jupyter_kernel",
   "language": "python",
   "name": "jupyter"
  },
  "language_info": {
   "codemirror_mode": {
    "name": "ipython",
    "version": 3
   },
   "file_extension": ".py",
   "mimetype": "text/x-python",
   "name": "python",
   "nbconvert_exporter": "python",
   "pygments_lexer": "ipython3",
   "version": "3.9.23"
  }
 },
 "nbformat": 4,
 "nbformat_minor": 5
}
